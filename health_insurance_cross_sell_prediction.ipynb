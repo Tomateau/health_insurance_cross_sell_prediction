{
 "cells": [
  {
   "cell_type": "code",
   "execution_count": 3,
   "metadata": {},
   "outputs": [],
   "source": [
    "import pandas as pd\n",
    "import numpy as np\n",
    "import matplotlib.pyplot as plt\n",
    "import seaborn as sns\n",
    "from sklearn import set_config; set_config(display='diagram')"
   ]
  },
  {
   "cell_type": "code",
   "execution_count": 4,
   "metadata": {},
   "outputs": [],
   "source": [
    "from sklearn.model_selection import train_test_split\n",
    "from sklearn.preprocessing import MinMaxScaler, StandardScaler\n",
    "from sklearn.pipeline import Pipeline, make_pipeline\n",
    "from sklearn.impute import SimpleImputer\n",
    "from sklearn.compose import ColumnTransformer, make_column_transformer, make_column_selector\n",
    "from sklearn.preprocessing import OneHotEncoder, OrdinalEncoder\n",
    "\n",
    "from sklearn.model_selection import cross_val_score\n",
    "from sklearn.model_selection import GridSearchCV, RandomizedSearchCV\n",
    "from sklearn.dummy import DummyClassifier\n",
    "from sklearn.tree import DecisionTreeClassifier\n",
    "from sklearn.neighbors import KNeighborsClassifier\n",
    "from sklearn.ensemble import RandomForestClassifier, AdaBoostClassifier\n",
    "from xgboost import XGBClassifier\n",
    "from sklearn.ensemble import VotingClassifier\n",
    "from sklearn.ensemble import StackingClassifier\n",
    "from sklearn.linear_model import LogisticRegression\n",
    "from sklearn.svm import SVC"
   ]
  },
  {
   "cell_type": "code",
   "execution_count": 5,
   "metadata": {},
   "outputs": [],
   "source": [
    "data = pd.read_csv(\"data/train.csv\")"
   ]
  },
  {
   "cell_type": "code",
   "execution_count": 6,
   "metadata": {},
   "outputs": [
    {
     "data": {
      "text/plain": [
       "(381109, 12)"
      ]
     },
     "execution_count": 6,
     "metadata": {},
     "output_type": "execute_result"
    }
   ],
   "source": [
    "data.shape"
   ]
  },
  {
   "attachments": {},
   "cell_type": "markdown",
   "metadata": {},
   "source": [
    "## Data Pre-processing"
   ]
  },
  {
   "cell_type": "code",
   "execution_count": 7,
   "metadata": {},
   "outputs": [
    {
     "data": {
      "text/plain": [
       "(380297, 12)"
      ]
     },
     "execution_count": 7,
     "metadata": {},
     "output_type": "execute_result"
    }
   ],
   "source": [
    "data = data[data['Driving_License'] == 1]\n",
    "data.shape"
   ]
  },
  {
   "cell_type": "code",
   "execution_count": 8,
   "metadata": {},
   "outputs": [
    {
     "data": {
      "text/plain": [
       "(380297, 8)"
      ]
     },
     "execution_count": 8,
     "metadata": {},
     "output_type": "execute_result"
    }
   ],
   "source": [
    "X = data.drop(columns=['Policy_Sales_Channel', 'Driving_License', 'id', 'Response'])\n",
    "y = data.Response\n",
    "X.shape"
   ]
  },
  {
   "cell_type": "code",
   "execution_count": 9,
   "metadata": {},
   "outputs": [
    {
     "data": {
      "text/plain": [
       "object     3\n",
       "int64      3\n",
       "float64    2\n",
       "dtype: int64"
      ]
     },
     "execution_count": 9,
     "metadata": {},
     "output_type": "execute_result"
    }
   ],
   "source": [
    "X.dtypes.value_counts()"
   ]
  },
  {
   "cell_type": "code",
   "execution_count": 10,
   "metadata": {},
   "outputs": [
    {
     "data": {
      "text/plain": [
       "Gender            2\n",
       "Vehicle_Age       3\n",
       "Vehicle_Damage    2\n",
       "dtype: int64"
      ]
     },
     "execution_count": 10,
     "metadata": {},
     "output_type": "execute_result"
    }
   ],
   "source": [
    "X.select_dtypes(include='object').nunique()"
   ]
  },
  {
   "cell_type": "code",
   "execution_count": 11,
   "metadata": {},
   "outputs": [],
   "source": [
    "feat_categorical = X.select_dtypes(include='object').nunique()"
   ]
  },
  {
   "cell_type": "code",
   "execution_count": 12,
   "metadata": {},
   "outputs": [],
   "source": [
    "feat_numerical = X.select_dtypes(include=[\"int64\", \"float64\"]).columns"
   ]
  },
  {
   "attachments": {},
   "cell_type": "markdown",
   "metadata": {},
   "source": [
    "## Baseline Pipe"
   ]
  },
  {
   "cell_type": "code",
   "execution_count": 11,
   "metadata": {},
   "outputs": [
    {
     "data": {
      "text/html": [
       "<style>#sk-395ffda8-678d-49c7-bc61-f5976611b01f {color: black;background-color: white;}#sk-395ffda8-678d-49c7-bc61-f5976611b01f pre{padding: 0;}#sk-395ffda8-678d-49c7-bc61-f5976611b01f div.sk-toggleable {background-color: white;}#sk-395ffda8-678d-49c7-bc61-f5976611b01f label.sk-toggleable__label {cursor: pointer;display: block;width: 100%;margin-bottom: 0;padding: 0.3em;box-sizing: border-box;text-align: center;}#sk-395ffda8-678d-49c7-bc61-f5976611b01f label.sk-toggleable__label-arrow:before {content: \"▸\";float: left;margin-right: 0.25em;color: #696969;}#sk-395ffda8-678d-49c7-bc61-f5976611b01f label.sk-toggleable__label-arrow:hover:before {color: black;}#sk-395ffda8-678d-49c7-bc61-f5976611b01f div.sk-estimator:hover label.sk-toggleable__label-arrow:before {color: black;}#sk-395ffda8-678d-49c7-bc61-f5976611b01f div.sk-toggleable__content {max-height: 0;max-width: 0;overflow: hidden;text-align: left;background-color: #f0f8ff;}#sk-395ffda8-678d-49c7-bc61-f5976611b01f div.sk-toggleable__content pre {margin: 0.2em;color: black;border-radius: 0.25em;background-color: #f0f8ff;}#sk-395ffda8-678d-49c7-bc61-f5976611b01f input.sk-toggleable__control:checked~div.sk-toggleable__content {max-height: 200px;max-width: 100%;overflow: auto;}#sk-395ffda8-678d-49c7-bc61-f5976611b01f input.sk-toggleable__control:checked~label.sk-toggleable__label-arrow:before {content: \"▾\";}#sk-395ffda8-678d-49c7-bc61-f5976611b01f div.sk-estimator input.sk-toggleable__control:checked~label.sk-toggleable__label {background-color: #d4ebff;}#sk-395ffda8-678d-49c7-bc61-f5976611b01f div.sk-label input.sk-toggleable__control:checked~label.sk-toggleable__label {background-color: #d4ebff;}#sk-395ffda8-678d-49c7-bc61-f5976611b01f input.sk-hidden--visually {border: 0;clip: rect(1px 1px 1px 1px);clip: rect(1px, 1px, 1px, 1px);height: 1px;margin: -1px;overflow: hidden;padding: 0;position: absolute;width: 1px;}#sk-395ffda8-678d-49c7-bc61-f5976611b01f div.sk-estimator {font-family: monospace;background-color: #f0f8ff;border: 1px dotted black;border-radius: 0.25em;box-sizing: border-box;margin-bottom: 0.5em;}#sk-395ffda8-678d-49c7-bc61-f5976611b01f div.sk-estimator:hover {background-color: #d4ebff;}#sk-395ffda8-678d-49c7-bc61-f5976611b01f div.sk-parallel-item::after {content: \"\";width: 100%;border-bottom: 1px solid gray;flex-grow: 1;}#sk-395ffda8-678d-49c7-bc61-f5976611b01f div.sk-label:hover label.sk-toggleable__label {background-color: #d4ebff;}#sk-395ffda8-678d-49c7-bc61-f5976611b01f div.sk-serial::before {content: \"\";position: absolute;border-left: 1px solid gray;box-sizing: border-box;top: 2em;bottom: 0;left: 50%;}#sk-395ffda8-678d-49c7-bc61-f5976611b01f div.sk-serial {display: flex;flex-direction: column;align-items: center;background-color: white;padding-right: 0.2em;padding-left: 0.2em;}#sk-395ffda8-678d-49c7-bc61-f5976611b01f div.sk-item {z-index: 1;}#sk-395ffda8-678d-49c7-bc61-f5976611b01f div.sk-parallel {display: flex;align-items: stretch;justify-content: center;background-color: white;}#sk-395ffda8-678d-49c7-bc61-f5976611b01f div.sk-parallel::before {content: \"\";position: absolute;border-left: 1px solid gray;box-sizing: border-box;top: 2em;bottom: 0;left: 50%;}#sk-395ffda8-678d-49c7-bc61-f5976611b01f div.sk-parallel-item {display: flex;flex-direction: column;position: relative;background-color: white;}#sk-395ffda8-678d-49c7-bc61-f5976611b01f div.sk-parallel-item:first-child::after {align-self: flex-end;width: 50%;}#sk-395ffda8-678d-49c7-bc61-f5976611b01f div.sk-parallel-item:last-child::after {align-self: flex-start;width: 50%;}#sk-395ffda8-678d-49c7-bc61-f5976611b01f div.sk-parallel-item:only-child::after {width: 0;}#sk-395ffda8-678d-49c7-bc61-f5976611b01f div.sk-dashed-wrapped {border: 1px dashed gray;margin: 0 0.4em 0.5em 0.4em;box-sizing: border-box;padding-bottom: 0.4em;background-color: white;position: relative;}#sk-395ffda8-678d-49c7-bc61-f5976611b01f div.sk-label label {font-family: monospace;font-weight: bold;background-color: white;display: inline-block;line-height: 1.2em;}#sk-395ffda8-678d-49c7-bc61-f5976611b01f div.sk-label-container {position: relative;z-index: 2;text-align: center;}#sk-395ffda8-678d-49c7-bc61-f5976611b01f div.sk-container {/* jupyter's `normalize.less` sets `[hidden] { display: none; }` but bootstrap.min.css set `[hidden] { display: none !important; }` so we also need the `!important` here to be able to override the default hidden behavior on the sphinx rendered scikit-learn.org. See: https://github.com/scikit-learn/scikit-learn/issues/21755 */display: inline-block !important;position: relative;}#sk-395ffda8-678d-49c7-bc61-f5976611b01f div.sk-text-repr-fallback {display: none;}</style><div id=\"sk-395ffda8-678d-49c7-bc61-f5976611b01f\" class=\"sk-top-container\"><div class=\"sk-text-repr-fallback\"><pre>ColumnTransformer(transformers=[(&#x27;pipeline-1&#x27;,\n",
       "                                 Pipeline(steps=[(&#x27;minmaxscaler&#x27;,\n",
       "                                                  MinMaxScaler())]),\n",
       "                                 Index([&#x27;Age&#x27;, &#x27;Region_Code&#x27;, &#x27;Previously_Insured&#x27;, &#x27;Annual_Premium&#x27;,\n",
       "       &#x27;Vintage&#x27;],\n",
       "      dtype=&#x27;object&#x27;)),\n",
       "                                (&#x27;pipeline-2&#x27;,\n",
       "                                 Pipeline(steps=[(&#x27;onehotencoder&#x27;,\n",
       "                                                  OneHotEncoder(handle_unknown=&#x27;ignore&#x27;))]),\n",
       "                                 Gender            2\n",
       "Vehicle_Age       3\n",
       "Vehicle_Damage    2\n",
       "dtype: int64)])</pre><b>Please rerun this cell to show the HTML repr or trust the notebook.</b></div><div class=\"sk-container\" hidden><div class=\"sk-item sk-dashed-wrapped\"><div class=\"sk-label-container\"><div class=\"sk-label sk-toggleable\"><input class=\"sk-toggleable__control sk-hidden--visually\" id=\"412dc865-91e3-41d8-9e93-4b6592e6561a\" type=\"checkbox\" ><label for=\"412dc865-91e3-41d8-9e93-4b6592e6561a\" class=\"sk-toggleable__label sk-toggleable__label-arrow\">ColumnTransformer</label><div class=\"sk-toggleable__content\"><pre>ColumnTransformer(transformers=[(&#x27;pipeline-1&#x27;,\n",
       "                                 Pipeline(steps=[(&#x27;minmaxscaler&#x27;,\n",
       "                                                  MinMaxScaler())]),\n",
       "                                 Index([&#x27;Age&#x27;, &#x27;Region_Code&#x27;, &#x27;Previously_Insured&#x27;, &#x27;Annual_Premium&#x27;,\n",
       "       &#x27;Vintage&#x27;],\n",
       "      dtype=&#x27;object&#x27;)),\n",
       "                                (&#x27;pipeline-2&#x27;,\n",
       "                                 Pipeline(steps=[(&#x27;onehotencoder&#x27;,\n",
       "                                                  OneHotEncoder(handle_unknown=&#x27;ignore&#x27;))]),\n",
       "                                 Gender            2\n",
       "Vehicle_Age       3\n",
       "Vehicle_Damage    2\n",
       "dtype: int64)])</pre></div></div></div><div class=\"sk-parallel\"><div class=\"sk-parallel-item\"><div class=\"sk-item\"><div class=\"sk-label-container\"><div class=\"sk-label sk-toggleable\"><input class=\"sk-toggleable__control sk-hidden--visually\" id=\"0343ac0e-6b41-4824-9736-5a6fabac5008\" type=\"checkbox\" ><label for=\"0343ac0e-6b41-4824-9736-5a6fabac5008\" class=\"sk-toggleable__label sk-toggleable__label-arrow\">pipeline-1</label><div class=\"sk-toggleable__content\"><pre>Index([&#x27;Age&#x27;, &#x27;Region_Code&#x27;, &#x27;Previously_Insured&#x27;, &#x27;Annual_Premium&#x27;,\n",
       "       &#x27;Vintage&#x27;],\n",
       "      dtype=&#x27;object&#x27;)</pre></div></div></div><div class=\"sk-serial\"><div class=\"sk-item\"><div class=\"sk-serial\"><div class=\"sk-item\"><div class=\"sk-estimator sk-toggleable\"><input class=\"sk-toggleable__control sk-hidden--visually\" id=\"fec3887f-e1e7-48c7-a3c9-e0ef3d022740\" type=\"checkbox\" ><label for=\"fec3887f-e1e7-48c7-a3c9-e0ef3d022740\" class=\"sk-toggleable__label sk-toggleable__label-arrow\">MinMaxScaler</label><div class=\"sk-toggleable__content\"><pre>MinMaxScaler()</pre></div></div></div></div></div></div></div></div><div class=\"sk-parallel-item\"><div class=\"sk-item\"><div class=\"sk-label-container\"><div class=\"sk-label sk-toggleable\"><input class=\"sk-toggleable__control sk-hidden--visually\" id=\"75b45fbe-d37c-4554-ac8d-9160ee3f6ee5\" type=\"checkbox\" ><label for=\"75b45fbe-d37c-4554-ac8d-9160ee3f6ee5\" class=\"sk-toggleable__label sk-toggleable__label-arrow\">pipeline-2</label><div class=\"sk-toggleable__content\"><pre>Gender            2\n",
       "Vehicle_Age       3\n",
       "Vehicle_Damage    2\n",
       "dtype: int64</pre></div></div></div><div class=\"sk-serial\"><div class=\"sk-item\"><div class=\"sk-serial\"><div class=\"sk-item\"><div class=\"sk-estimator sk-toggleable\"><input class=\"sk-toggleable__control sk-hidden--visually\" id=\"fe89b178-0227-4bc3-a0cb-bb3d27e34578\" type=\"checkbox\" ><label for=\"fe89b178-0227-4bc3-a0cb-bb3d27e34578\" class=\"sk-toggleable__label sk-toggleable__label-arrow\">OneHotEncoder</label><div class=\"sk-toggleable__content\"><pre>OneHotEncoder(handle_unknown=&#x27;ignore&#x27;)</pre></div></div></div></div></div></div></div></div></div></div></div></div>"
      ],
      "text/plain": [
       "ColumnTransformer(transformers=[('pipeline-1',\n",
       "                                 Pipeline(steps=[('minmaxscaler',\n",
       "                                                  MinMaxScaler())]),\n",
       "                                 Index(['Age', 'Region_Code', 'Previously_Insured', 'Annual_Premium',\n",
       "       'Vintage'],\n",
       "      dtype='object')),\n",
       "                                ('pipeline-2',\n",
       "                                 Pipeline(steps=[('onehotencoder',\n",
       "                                                  OneHotEncoder(handle_unknown='ignore'))]),\n",
       "                                 Gender            2\n",
       "Vehicle_Age       3\n",
       "Vehicle_Damage    2\n",
       "dtype: int64)])"
      ]
     },
     "execution_count": 11,
     "metadata": {},
     "output_type": "execute_result"
    }
   ],
   "source": [
    "preproc_numerical_baseline = make_pipeline(\n",
    "    MinMaxScaler())\n",
    "\n",
    "preproc_categorical_baseline = make_pipeline(\n",
    "    OneHotEncoder(handle_unknown=\"ignore\"))\n",
    "\n",
    "preproc_baseline = make_column_transformer(\n",
    "    (preproc_numerical_baseline, feat_numerical),\n",
    "    (preproc_categorical_baseline, feat_categorical),\n",
    "    remainder=\"drop\")\n",
    "\n",
    "preproc_baseline"
   ]
  },
  {
   "cell_type": "code",
   "execution_count": 12,
   "metadata": {},
   "outputs": [
    {
     "data": {
      "text/html": [
       "<style>#sk-4abe27e2-3ba0-482e-ac8b-701f815549e0 {color: black;background-color: white;}#sk-4abe27e2-3ba0-482e-ac8b-701f815549e0 pre{padding: 0;}#sk-4abe27e2-3ba0-482e-ac8b-701f815549e0 div.sk-toggleable {background-color: white;}#sk-4abe27e2-3ba0-482e-ac8b-701f815549e0 label.sk-toggleable__label {cursor: pointer;display: block;width: 100%;margin-bottom: 0;padding: 0.3em;box-sizing: border-box;text-align: center;}#sk-4abe27e2-3ba0-482e-ac8b-701f815549e0 label.sk-toggleable__label-arrow:before {content: \"▸\";float: left;margin-right: 0.25em;color: #696969;}#sk-4abe27e2-3ba0-482e-ac8b-701f815549e0 label.sk-toggleable__label-arrow:hover:before {color: black;}#sk-4abe27e2-3ba0-482e-ac8b-701f815549e0 div.sk-estimator:hover label.sk-toggleable__label-arrow:before {color: black;}#sk-4abe27e2-3ba0-482e-ac8b-701f815549e0 div.sk-toggleable__content {max-height: 0;max-width: 0;overflow: hidden;text-align: left;background-color: #f0f8ff;}#sk-4abe27e2-3ba0-482e-ac8b-701f815549e0 div.sk-toggleable__content pre {margin: 0.2em;color: black;border-radius: 0.25em;background-color: #f0f8ff;}#sk-4abe27e2-3ba0-482e-ac8b-701f815549e0 input.sk-toggleable__control:checked~div.sk-toggleable__content {max-height: 200px;max-width: 100%;overflow: auto;}#sk-4abe27e2-3ba0-482e-ac8b-701f815549e0 input.sk-toggleable__control:checked~label.sk-toggleable__label-arrow:before {content: \"▾\";}#sk-4abe27e2-3ba0-482e-ac8b-701f815549e0 div.sk-estimator input.sk-toggleable__control:checked~label.sk-toggleable__label {background-color: #d4ebff;}#sk-4abe27e2-3ba0-482e-ac8b-701f815549e0 div.sk-label input.sk-toggleable__control:checked~label.sk-toggleable__label {background-color: #d4ebff;}#sk-4abe27e2-3ba0-482e-ac8b-701f815549e0 input.sk-hidden--visually {border: 0;clip: rect(1px 1px 1px 1px);clip: rect(1px, 1px, 1px, 1px);height: 1px;margin: -1px;overflow: hidden;padding: 0;position: absolute;width: 1px;}#sk-4abe27e2-3ba0-482e-ac8b-701f815549e0 div.sk-estimator {font-family: monospace;background-color: #f0f8ff;border: 1px dotted black;border-radius: 0.25em;box-sizing: border-box;margin-bottom: 0.5em;}#sk-4abe27e2-3ba0-482e-ac8b-701f815549e0 div.sk-estimator:hover {background-color: #d4ebff;}#sk-4abe27e2-3ba0-482e-ac8b-701f815549e0 div.sk-parallel-item::after {content: \"\";width: 100%;border-bottom: 1px solid gray;flex-grow: 1;}#sk-4abe27e2-3ba0-482e-ac8b-701f815549e0 div.sk-label:hover label.sk-toggleable__label {background-color: #d4ebff;}#sk-4abe27e2-3ba0-482e-ac8b-701f815549e0 div.sk-serial::before {content: \"\";position: absolute;border-left: 1px solid gray;box-sizing: border-box;top: 2em;bottom: 0;left: 50%;}#sk-4abe27e2-3ba0-482e-ac8b-701f815549e0 div.sk-serial {display: flex;flex-direction: column;align-items: center;background-color: white;padding-right: 0.2em;padding-left: 0.2em;}#sk-4abe27e2-3ba0-482e-ac8b-701f815549e0 div.sk-item {z-index: 1;}#sk-4abe27e2-3ba0-482e-ac8b-701f815549e0 div.sk-parallel {display: flex;align-items: stretch;justify-content: center;background-color: white;}#sk-4abe27e2-3ba0-482e-ac8b-701f815549e0 div.sk-parallel::before {content: \"\";position: absolute;border-left: 1px solid gray;box-sizing: border-box;top: 2em;bottom: 0;left: 50%;}#sk-4abe27e2-3ba0-482e-ac8b-701f815549e0 div.sk-parallel-item {display: flex;flex-direction: column;position: relative;background-color: white;}#sk-4abe27e2-3ba0-482e-ac8b-701f815549e0 div.sk-parallel-item:first-child::after {align-self: flex-end;width: 50%;}#sk-4abe27e2-3ba0-482e-ac8b-701f815549e0 div.sk-parallel-item:last-child::after {align-self: flex-start;width: 50%;}#sk-4abe27e2-3ba0-482e-ac8b-701f815549e0 div.sk-parallel-item:only-child::after {width: 0;}#sk-4abe27e2-3ba0-482e-ac8b-701f815549e0 div.sk-dashed-wrapped {border: 1px dashed gray;margin: 0 0.4em 0.5em 0.4em;box-sizing: border-box;padding-bottom: 0.4em;background-color: white;position: relative;}#sk-4abe27e2-3ba0-482e-ac8b-701f815549e0 div.sk-label label {font-family: monospace;font-weight: bold;background-color: white;display: inline-block;line-height: 1.2em;}#sk-4abe27e2-3ba0-482e-ac8b-701f815549e0 div.sk-label-container {position: relative;z-index: 2;text-align: center;}#sk-4abe27e2-3ba0-482e-ac8b-701f815549e0 div.sk-container {/* jupyter's `normalize.less` sets `[hidden] { display: none; }` but bootstrap.min.css set `[hidden] { display: none !important; }` so we also need the `!important` here to be able to override the default hidden behavior on the sphinx rendered scikit-learn.org. See: https://github.com/scikit-learn/scikit-learn/issues/21755 */display: inline-block !important;position: relative;}#sk-4abe27e2-3ba0-482e-ac8b-701f815549e0 div.sk-text-repr-fallback {display: none;}</style><div id=\"sk-4abe27e2-3ba0-482e-ac8b-701f815549e0\" class=\"sk-top-container\"><div class=\"sk-text-repr-fallback\"><pre>Pipeline(steps=[(&#x27;columntransformer&#x27;,\n",
       "                 ColumnTransformer(transformers=[(&#x27;pipeline-1&#x27;,\n",
       "                                                  Pipeline(steps=[(&#x27;minmaxscaler&#x27;,\n",
       "                                                                   MinMaxScaler())]),\n",
       "                                                  Index([&#x27;Age&#x27;, &#x27;Region_Code&#x27;, &#x27;Previously_Insured&#x27;, &#x27;Annual_Premium&#x27;,\n",
       "       &#x27;Vintage&#x27;],\n",
       "      dtype=&#x27;object&#x27;)),\n",
       "                                                 (&#x27;pipeline-2&#x27;,\n",
       "                                                  Pipeline(steps=[(&#x27;onehotencoder&#x27;,\n",
       "                                                                   OneHotEncoder(handle_unknown=&#x27;ignore&#x27;))]),\n",
       "                                                  Gender            2\n",
       "Vehicle_Age       3\n",
       "Vehicle_Damage    2\n",
       "dtype: int64)])),\n",
       "                (&#x27;dummyclassifier&#x27;, DummyClassifier(strategy=&#x27;most_frequent&#x27;))])</pre><b>Please rerun this cell to show the HTML repr or trust the notebook.</b></div><div class=\"sk-container\" hidden><div class=\"sk-item sk-dashed-wrapped\"><div class=\"sk-label-container\"><div class=\"sk-label sk-toggleable\"><input class=\"sk-toggleable__control sk-hidden--visually\" id=\"85ccfa95-83a2-45e0-9733-e646bf8f50cb\" type=\"checkbox\" ><label for=\"85ccfa95-83a2-45e0-9733-e646bf8f50cb\" class=\"sk-toggleable__label sk-toggleable__label-arrow\">Pipeline</label><div class=\"sk-toggleable__content\"><pre>Pipeline(steps=[(&#x27;columntransformer&#x27;,\n",
       "                 ColumnTransformer(transformers=[(&#x27;pipeline-1&#x27;,\n",
       "                                                  Pipeline(steps=[(&#x27;minmaxscaler&#x27;,\n",
       "                                                                   MinMaxScaler())]),\n",
       "                                                  Index([&#x27;Age&#x27;, &#x27;Region_Code&#x27;, &#x27;Previously_Insured&#x27;, &#x27;Annual_Premium&#x27;,\n",
       "       &#x27;Vintage&#x27;],\n",
       "      dtype=&#x27;object&#x27;)),\n",
       "                                                 (&#x27;pipeline-2&#x27;,\n",
       "                                                  Pipeline(steps=[(&#x27;onehotencoder&#x27;,\n",
       "                                                                   OneHotEncoder(handle_unknown=&#x27;ignore&#x27;))]),\n",
       "                                                  Gender            2\n",
       "Vehicle_Age       3\n",
       "Vehicle_Damage    2\n",
       "dtype: int64)])),\n",
       "                (&#x27;dummyclassifier&#x27;, DummyClassifier(strategy=&#x27;most_frequent&#x27;))])</pre></div></div></div><div class=\"sk-serial\"><div class=\"sk-item sk-dashed-wrapped\"><div class=\"sk-label-container\"><div class=\"sk-label sk-toggleable\"><input class=\"sk-toggleable__control sk-hidden--visually\" id=\"374a583a-9abd-48d2-a3b2-125f592a97ff\" type=\"checkbox\" ><label for=\"374a583a-9abd-48d2-a3b2-125f592a97ff\" class=\"sk-toggleable__label sk-toggleable__label-arrow\">columntransformer: ColumnTransformer</label><div class=\"sk-toggleable__content\"><pre>ColumnTransformer(transformers=[(&#x27;pipeline-1&#x27;,\n",
       "                                 Pipeline(steps=[(&#x27;minmaxscaler&#x27;,\n",
       "                                                  MinMaxScaler())]),\n",
       "                                 Index([&#x27;Age&#x27;, &#x27;Region_Code&#x27;, &#x27;Previously_Insured&#x27;, &#x27;Annual_Premium&#x27;,\n",
       "       &#x27;Vintage&#x27;],\n",
       "      dtype=&#x27;object&#x27;)),\n",
       "                                (&#x27;pipeline-2&#x27;,\n",
       "                                 Pipeline(steps=[(&#x27;onehotencoder&#x27;,\n",
       "                                                  OneHotEncoder(handle_unknown=&#x27;ignore&#x27;))]),\n",
       "                                 Gender            2\n",
       "Vehicle_Age       3\n",
       "Vehicle_Damage    2\n",
       "dtype: int64)])</pre></div></div></div><div class=\"sk-parallel\"><div class=\"sk-parallel-item\"><div class=\"sk-item\"><div class=\"sk-label-container\"><div class=\"sk-label sk-toggleable\"><input class=\"sk-toggleable__control sk-hidden--visually\" id=\"98355287-036e-4c70-bd31-ff0a8f84eb77\" type=\"checkbox\" ><label for=\"98355287-036e-4c70-bd31-ff0a8f84eb77\" class=\"sk-toggleable__label sk-toggleable__label-arrow\">pipeline-1</label><div class=\"sk-toggleable__content\"><pre>Index([&#x27;Age&#x27;, &#x27;Region_Code&#x27;, &#x27;Previously_Insured&#x27;, &#x27;Annual_Premium&#x27;,\n",
       "       &#x27;Vintage&#x27;],\n",
       "      dtype=&#x27;object&#x27;)</pre></div></div></div><div class=\"sk-serial\"><div class=\"sk-item\"><div class=\"sk-serial\"><div class=\"sk-item\"><div class=\"sk-estimator sk-toggleable\"><input class=\"sk-toggleable__control sk-hidden--visually\" id=\"9533f699-b410-496c-94be-a91f983e2e4a\" type=\"checkbox\" ><label for=\"9533f699-b410-496c-94be-a91f983e2e4a\" class=\"sk-toggleable__label sk-toggleable__label-arrow\">MinMaxScaler</label><div class=\"sk-toggleable__content\"><pre>MinMaxScaler()</pre></div></div></div></div></div></div></div></div><div class=\"sk-parallel-item\"><div class=\"sk-item\"><div class=\"sk-label-container\"><div class=\"sk-label sk-toggleable\"><input class=\"sk-toggleable__control sk-hidden--visually\" id=\"3c417d34-4820-4d67-b491-d334ab52944a\" type=\"checkbox\" ><label for=\"3c417d34-4820-4d67-b491-d334ab52944a\" class=\"sk-toggleable__label sk-toggleable__label-arrow\">pipeline-2</label><div class=\"sk-toggleable__content\"><pre>Gender            2\n",
       "Vehicle_Age       3\n",
       "Vehicle_Damage    2\n",
       "dtype: int64</pre></div></div></div><div class=\"sk-serial\"><div class=\"sk-item\"><div class=\"sk-serial\"><div class=\"sk-item\"><div class=\"sk-estimator sk-toggleable\"><input class=\"sk-toggleable__control sk-hidden--visually\" id=\"81daebec-4e1c-4595-a67b-2a375e88f18e\" type=\"checkbox\" ><label for=\"81daebec-4e1c-4595-a67b-2a375e88f18e\" class=\"sk-toggleable__label sk-toggleable__label-arrow\">OneHotEncoder</label><div class=\"sk-toggleable__content\"><pre>OneHotEncoder(handle_unknown=&#x27;ignore&#x27;)</pre></div></div></div></div></div></div></div></div></div></div><div class=\"sk-item\"><div class=\"sk-estimator sk-toggleable\"><input class=\"sk-toggleable__control sk-hidden--visually\" id=\"7885b22b-505e-439e-864b-4fc92a6070ad\" type=\"checkbox\" ><label for=\"7885b22b-505e-439e-864b-4fc92a6070ad\" class=\"sk-toggleable__label sk-toggleable__label-arrow\">DummyClassifier</label><div class=\"sk-toggleable__content\"><pre>DummyClassifier(strategy=&#x27;most_frequent&#x27;)</pre></div></div></div></div></div></div></div>"
      ],
      "text/plain": [
       "Pipeline(steps=[('columntransformer',\n",
       "                 ColumnTransformer(transformers=[('pipeline-1',\n",
       "                                                  Pipeline(steps=[('minmaxscaler',\n",
       "                                                                   MinMaxScaler())]),\n",
       "                                                  Index(['Age', 'Region_Code', 'Previously_Insured', 'Annual_Premium',\n",
       "       'Vintage'],\n",
       "      dtype='object')),\n",
       "                                                 ('pipeline-2',\n",
       "                                                  Pipeline(steps=[('onehotencoder',\n",
       "                                                                   OneHotEncoder(handle_unknown='ignore'))]),\n",
       "                                                  Gender            2\n",
       "Vehicle_Age       3\n",
       "Vehicle_Damage    2\n",
       "dtype: int64)])),\n",
       "                ('dummyclassifier', DummyClassifier(strategy='most_frequent'))])"
      ]
     },
     "execution_count": 12,
     "metadata": {},
     "output_type": "execute_result"
    }
   ],
   "source": [
    "pipe_baseline = make_pipeline(preproc_baseline, DummyClassifier(strategy=\"most_frequent\"))\n",
    "pipe_baseline"
   ]
  },
  {
   "cell_type": "code",
   "execution_count": 13,
   "metadata": {},
   "outputs": [
    {
     "data": {
      "text/plain": [
       "0.5"
      ]
     },
     "execution_count": 13,
     "metadata": {},
     "output_type": "execute_result"
    }
   ],
   "source": [
    "score_baseline = cross_val_score(pipe_baseline, X, y, cv=5, scoring='roc_auc').mean()\n",
    "score_baseline"
   ]
  },
  {
   "cell_type": "code",
   "execution_count": 16,
   "metadata": {},
   "outputs": [
    {
     "data": {
      "text/plain": [
       "array([0, 0, 0, ..., 0, 0, 0])"
      ]
     },
     "execution_count": 16,
     "metadata": {},
     "output_type": "execute_result"
    }
   ],
   "source": [
    "X_test = pd.read_csv(\"data/test.csv\")\n",
    "X_test_ids = X_test['id']\n",
    "X_test = X_test[X_test['Driving_License'] == 1]\n",
    "X_test = X_test.drop(columns=['Policy_Sales_Channel', 'Driving_License', 'id'])\n",
    "\n",
    "\n",
    "pipe_baseline.fit(X,y)\n",
    "y_pred_baseline = pipe_baseline.predict(X_test)\n",
    "y_pred_baseline"
   ]
  },
  {
   "cell_type": "code",
   "execution_count": 17,
   "metadata": {},
   "outputs": [],
   "source": [
    "results = pd.concat([X_test_ids, pd.Series(y_pred_baseline, name=\"Response\")], axis=1)"
   ]
  },
  {
   "cell_type": "code",
   "execution_count": 18,
   "metadata": {},
   "outputs": [],
   "source": [
    "results.to_csv(\"data/submission_baseline.csv\", header=True, index=False)"
   ]
  },
  {
   "attachments": {},
   "cell_type": "markdown",
   "metadata": {},
   "source": [
    "## Model Iteration"
   ]
  },
  {
   "cell_type": "code",
   "execution_count": 14,
   "metadata": {},
   "outputs": [
    {
     "data": {
      "text/html": [
       "<style>#sk-0eeba4dc-d9bc-49c0-b9e0-8110717139c7 {color: black;background-color: white;}#sk-0eeba4dc-d9bc-49c0-b9e0-8110717139c7 pre{padding: 0;}#sk-0eeba4dc-d9bc-49c0-b9e0-8110717139c7 div.sk-toggleable {background-color: white;}#sk-0eeba4dc-d9bc-49c0-b9e0-8110717139c7 label.sk-toggleable__label {cursor: pointer;display: block;width: 100%;margin-bottom: 0;padding: 0.3em;box-sizing: border-box;text-align: center;}#sk-0eeba4dc-d9bc-49c0-b9e0-8110717139c7 label.sk-toggleable__label-arrow:before {content: \"▸\";float: left;margin-right: 0.25em;color: #696969;}#sk-0eeba4dc-d9bc-49c0-b9e0-8110717139c7 label.sk-toggleable__label-arrow:hover:before {color: black;}#sk-0eeba4dc-d9bc-49c0-b9e0-8110717139c7 div.sk-estimator:hover label.sk-toggleable__label-arrow:before {color: black;}#sk-0eeba4dc-d9bc-49c0-b9e0-8110717139c7 div.sk-toggleable__content {max-height: 0;max-width: 0;overflow: hidden;text-align: left;background-color: #f0f8ff;}#sk-0eeba4dc-d9bc-49c0-b9e0-8110717139c7 div.sk-toggleable__content pre {margin: 0.2em;color: black;border-radius: 0.25em;background-color: #f0f8ff;}#sk-0eeba4dc-d9bc-49c0-b9e0-8110717139c7 input.sk-toggleable__control:checked~div.sk-toggleable__content {max-height: 200px;max-width: 100%;overflow: auto;}#sk-0eeba4dc-d9bc-49c0-b9e0-8110717139c7 input.sk-toggleable__control:checked~label.sk-toggleable__label-arrow:before {content: \"▾\";}#sk-0eeba4dc-d9bc-49c0-b9e0-8110717139c7 div.sk-estimator input.sk-toggleable__control:checked~label.sk-toggleable__label {background-color: #d4ebff;}#sk-0eeba4dc-d9bc-49c0-b9e0-8110717139c7 div.sk-label input.sk-toggleable__control:checked~label.sk-toggleable__label {background-color: #d4ebff;}#sk-0eeba4dc-d9bc-49c0-b9e0-8110717139c7 input.sk-hidden--visually {border: 0;clip: rect(1px 1px 1px 1px);clip: rect(1px, 1px, 1px, 1px);height: 1px;margin: -1px;overflow: hidden;padding: 0;position: absolute;width: 1px;}#sk-0eeba4dc-d9bc-49c0-b9e0-8110717139c7 div.sk-estimator {font-family: monospace;background-color: #f0f8ff;border: 1px dotted black;border-radius: 0.25em;box-sizing: border-box;margin-bottom: 0.5em;}#sk-0eeba4dc-d9bc-49c0-b9e0-8110717139c7 div.sk-estimator:hover {background-color: #d4ebff;}#sk-0eeba4dc-d9bc-49c0-b9e0-8110717139c7 div.sk-parallel-item::after {content: \"\";width: 100%;border-bottom: 1px solid gray;flex-grow: 1;}#sk-0eeba4dc-d9bc-49c0-b9e0-8110717139c7 div.sk-label:hover label.sk-toggleable__label {background-color: #d4ebff;}#sk-0eeba4dc-d9bc-49c0-b9e0-8110717139c7 div.sk-serial::before {content: \"\";position: absolute;border-left: 1px solid gray;box-sizing: border-box;top: 2em;bottom: 0;left: 50%;}#sk-0eeba4dc-d9bc-49c0-b9e0-8110717139c7 div.sk-serial {display: flex;flex-direction: column;align-items: center;background-color: white;padding-right: 0.2em;padding-left: 0.2em;}#sk-0eeba4dc-d9bc-49c0-b9e0-8110717139c7 div.sk-item {z-index: 1;}#sk-0eeba4dc-d9bc-49c0-b9e0-8110717139c7 div.sk-parallel {display: flex;align-items: stretch;justify-content: center;background-color: white;}#sk-0eeba4dc-d9bc-49c0-b9e0-8110717139c7 div.sk-parallel::before {content: \"\";position: absolute;border-left: 1px solid gray;box-sizing: border-box;top: 2em;bottom: 0;left: 50%;}#sk-0eeba4dc-d9bc-49c0-b9e0-8110717139c7 div.sk-parallel-item {display: flex;flex-direction: column;position: relative;background-color: white;}#sk-0eeba4dc-d9bc-49c0-b9e0-8110717139c7 div.sk-parallel-item:first-child::after {align-self: flex-end;width: 50%;}#sk-0eeba4dc-d9bc-49c0-b9e0-8110717139c7 div.sk-parallel-item:last-child::after {align-self: flex-start;width: 50%;}#sk-0eeba4dc-d9bc-49c0-b9e0-8110717139c7 div.sk-parallel-item:only-child::after {width: 0;}#sk-0eeba4dc-d9bc-49c0-b9e0-8110717139c7 div.sk-dashed-wrapped {border: 1px dashed gray;margin: 0 0.4em 0.5em 0.4em;box-sizing: border-box;padding-bottom: 0.4em;background-color: white;position: relative;}#sk-0eeba4dc-d9bc-49c0-b9e0-8110717139c7 div.sk-label label {font-family: monospace;font-weight: bold;background-color: white;display: inline-block;line-height: 1.2em;}#sk-0eeba4dc-d9bc-49c0-b9e0-8110717139c7 div.sk-label-container {position: relative;z-index: 2;text-align: center;}#sk-0eeba4dc-d9bc-49c0-b9e0-8110717139c7 div.sk-container {/* jupyter's `normalize.less` sets `[hidden] { display: none; }` but bootstrap.min.css set `[hidden] { display: none !important; }` so we also need the `!important` here to be able to override the default hidden behavior on the sphinx rendered scikit-learn.org. See: https://github.com/scikit-learn/scikit-learn/issues/21755 */display: inline-block !important;position: relative;}#sk-0eeba4dc-d9bc-49c0-b9e0-8110717139c7 div.sk-text-repr-fallback {display: none;}</style><div id=\"sk-0eeba4dc-d9bc-49c0-b9e0-8110717139c7\" class=\"sk-top-container\"><div class=\"sk-text-repr-fallback\"><pre>ColumnTransformer(transformers=[(&#x27;pipeline-1&#x27;,\n",
       "                                 Pipeline(steps=[(&#x27;minmaxscaler&#x27;,\n",
       "                                                  MinMaxScaler())]),\n",
       "                                 Index([&#x27;Age&#x27;, &#x27;Region_Code&#x27;, &#x27;Previously_Insured&#x27;, &#x27;Annual_Premium&#x27;,\n",
       "       &#x27;Vintage&#x27;],\n",
       "      dtype=&#x27;object&#x27;)),\n",
       "                                (&#x27;pipeline-2&#x27;,\n",
       "                                 Pipeline(steps=[(&#x27;onehotencoder&#x27;,\n",
       "                                                  OneHotEncoder(handle_unknown=&#x27;ignore&#x27;))]),\n",
       "                                 Gender            2\n",
       "Vehicle_Age       3\n",
       "Vehicle_Damage    2\n",
       "dtype: int64)])</pre><b>Please rerun this cell to show the HTML repr or trust the notebook.</b></div><div class=\"sk-container\" hidden><div class=\"sk-item sk-dashed-wrapped\"><div class=\"sk-label-container\"><div class=\"sk-label sk-toggleable\"><input class=\"sk-toggleable__control sk-hidden--visually\" id=\"fa0ee4a2-d5e9-42e6-af6f-67ec6bcc64fc\" type=\"checkbox\" ><label for=\"fa0ee4a2-d5e9-42e6-af6f-67ec6bcc64fc\" class=\"sk-toggleable__label sk-toggleable__label-arrow\">ColumnTransformer</label><div class=\"sk-toggleable__content\"><pre>ColumnTransformer(transformers=[(&#x27;pipeline-1&#x27;,\n",
       "                                 Pipeline(steps=[(&#x27;minmaxscaler&#x27;,\n",
       "                                                  MinMaxScaler())]),\n",
       "                                 Index([&#x27;Age&#x27;, &#x27;Region_Code&#x27;, &#x27;Previously_Insured&#x27;, &#x27;Annual_Premium&#x27;,\n",
       "       &#x27;Vintage&#x27;],\n",
       "      dtype=&#x27;object&#x27;)),\n",
       "                                (&#x27;pipeline-2&#x27;,\n",
       "                                 Pipeline(steps=[(&#x27;onehotencoder&#x27;,\n",
       "                                                  OneHotEncoder(handle_unknown=&#x27;ignore&#x27;))]),\n",
       "                                 Gender            2\n",
       "Vehicle_Age       3\n",
       "Vehicle_Damage    2\n",
       "dtype: int64)])</pre></div></div></div><div class=\"sk-parallel\"><div class=\"sk-parallel-item\"><div class=\"sk-item\"><div class=\"sk-label-container\"><div class=\"sk-label sk-toggleable\"><input class=\"sk-toggleable__control sk-hidden--visually\" id=\"b35035c8-2f23-463b-9eac-cc42ce054af1\" type=\"checkbox\" ><label for=\"b35035c8-2f23-463b-9eac-cc42ce054af1\" class=\"sk-toggleable__label sk-toggleable__label-arrow\">pipeline-1</label><div class=\"sk-toggleable__content\"><pre>Index([&#x27;Age&#x27;, &#x27;Region_Code&#x27;, &#x27;Previously_Insured&#x27;, &#x27;Annual_Premium&#x27;,\n",
       "       &#x27;Vintage&#x27;],\n",
       "      dtype=&#x27;object&#x27;)</pre></div></div></div><div class=\"sk-serial\"><div class=\"sk-item\"><div class=\"sk-serial\"><div class=\"sk-item\"><div class=\"sk-estimator sk-toggleable\"><input class=\"sk-toggleable__control sk-hidden--visually\" id=\"6ed02ea7-790e-4222-8022-c61affc7185b\" type=\"checkbox\" ><label for=\"6ed02ea7-790e-4222-8022-c61affc7185b\" class=\"sk-toggleable__label sk-toggleable__label-arrow\">MinMaxScaler</label><div class=\"sk-toggleable__content\"><pre>MinMaxScaler()</pre></div></div></div></div></div></div></div></div><div class=\"sk-parallel-item\"><div class=\"sk-item\"><div class=\"sk-label-container\"><div class=\"sk-label sk-toggleable\"><input class=\"sk-toggleable__control sk-hidden--visually\" id=\"9ea84b19-bc0d-4718-9cc2-eef188d2bc42\" type=\"checkbox\" ><label for=\"9ea84b19-bc0d-4718-9cc2-eef188d2bc42\" class=\"sk-toggleable__label sk-toggleable__label-arrow\">pipeline-2</label><div class=\"sk-toggleable__content\"><pre>Gender            2\n",
       "Vehicle_Age       3\n",
       "Vehicle_Damage    2\n",
       "dtype: int64</pre></div></div></div><div class=\"sk-serial\"><div class=\"sk-item\"><div class=\"sk-serial\"><div class=\"sk-item\"><div class=\"sk-estimator sk-toggleable\"><input class=\"sk-toggleable__control sk-hidden--visually\" id=\"8aaac5f2-e009-41f7-a072-81900a2671a6\" type=\"checkbox\" ><label for=\"8aaac5f2-e009-41f7-a072-81900a2671a6\" class=\"sk-toggleable__label sk-toggleable__label-arrow\">OneHotEncoder</label><div class=\"sk-toggleable__content\"><pre>OneHotEncoder(handle_unknown=&#x27;ignore&#x27;)</pre></div></div></div></div></div></div></div></div></div></div></div></div>"
      ],
      "text/plain": [
       "ColumnTransformer(transformers=[('pipeline-1',\n",
       "                                 Pipeline(steps=[('minmaxscaler',\n",
       "                                                  MinMaxScaler())]),\n",
       "                                 Index(['Age', 'Region_Code', 'Previously_Insured', 'Annual_Premium',\n",
       "       'Vintage'],\n",
       "      dtype='object')),\n",
       "                                ('pipeline-2',\n",
       "                                 Pipeline(steps=[('onehotencoder',\n",
       "                                                  OneHotEncoder(handle_unknown='ignore'))]),\n",
       "                                 Gender            2\n",
       "Vehicle_Age       3\n",
       "Vehicle_Damage    2\n",
       "dtype: int64)])"
      ]
     },
     "execution_count": 14,
     "metadata": {},
     "output_type": "execute_result"
    }
   ],
   "source": [
    "preproc_numerical = make_pipeline(\n",
    "    MinMaxScaler())\n",
    "\n",
    "preproc_categorical = make_pipeline(\n",
    "    OneHotEncoder(handle_unknown=\"ignore\"))\n",
    "\n",
    "preproc = make_column_transformer(\n",
    "    (preproc_numerical, feat_numerical),\n",
    "    (preproc_categorical, feat_categorical),\n",
    "    remainder=\"drop\")\n",
    "\n",
    "preproc"
   ]
  },
  {
   "attachments": {},
   "cell_type": "markdown",
   "metadata": {},
   "source": [
    "### Decison Tree"
   ]
  },
  {
   "cell_type": "code",
   "execution_count": 24,
   "metadata": {},
   "outputs": [
    {
     "data": {
      "text/plain": [
       "0.5846567742225391"
      ]
     },
     "execution_count": 24,
     "metadata": {},
     "output_type": "execute_result"
    }
   ],
   "source": [
    "model = DecisionTreeClassifier()\n",
    "pipe_decision_tree = make_pipeline(preproc, model) \n",
    "cross_val_score(pipe_decision_tree, X, y, cv=5, scoring='roc_auc').mean()"
   ]
  },
  {
   "attachments": {},
   "cell_type": "markdown",
   "metadata": {},
   "source": [
    "### SVC"
   ]
  },
  {
   "cell_type": "code",
   "execution_count": 25,
   "metadata": {},
   "outputs": [],
   "source": [
    "model = SVC()\n",
    "pipe_decision_tree = make_pipeline(preproc, model) \n",
    "cross_val_score(pipe_decision_tree, X, y, cv=5, scoring='roc_auc').mean()"
   ]
  },
  {
   "attachments": {},
   "cell_type": "markdown",
   "metadata": {},
   "source": [
    "### Random Forest Classifier"
   ]
  },
  {
   "cell_type": "code",
   "execution_count": null,
   "metadata": {},
   "outputs": [],
   "source": [
    "model = RandomForestClassifier()\n",
    "pipe_RandomForest = make_pipeline(preproc, model) \n",
    "cross_val_score(pipe_RandomForest, X, y, cv=5, scoring='roc_auc').mean()"
   ]
  },
  {
   "attachments": {},
   "cell_type": "markdown",
   "metadata": {},
   "source": [
    "### AdaBoost"
   ]
  },
  {
   "cell_type": "code",
   "execution_count": null,
   "metadata": {},
   "outputs": [],
   "source": [
    "model = AdaBoostClassifier()\n",
    "pipe_AdaBoost = make_pipeline(preproc, model) \n",
    "cross_val_score(pipe_AdaBoost, X, y, cv=5, scoring='roc_auc').mean()"
   ]
  },
  {
   "attachments": {},
   "cell_type": "markdown",
   "metadata": {},
   "source": [
    "### KNN"
   ]
  },
  {
   "cell_type": "code",
   "execution_count": null,
   "metadata": {},
   "outputs": [],
   "source": [
    "model = KNeighborsClassifier(n_neighbors=3)\n",
    "pipe_KNN = make_pipeline(preproc, model) \n",
    "cross_val_score(pipe_KNN, X, y, cv=5, scoring='roc_auc').mean()"
   ]
  },
  {
   "attachments": {},
   "cell_type": "markdown",
   "metadata": {},
   "source": [
    "### Stacking"
   ]
  },
  {
   "cell_type": "code",
   "execution_count": null,
   "metadata": {},
   "outputs": [],
   "source": [
    "XGBoost = XGBClassifier()\n",
    "adaboost = AdaBoostClassifier()\n",
    "\n",
    "\n",
    "model = StackingClassifier(\n",
    "    estimators = [(\"XGBoost\", XGBoost),(\"adaboost\", adaboost)],\n",
    "    final_estimator=LogisticRegression(),\n",
    "    cv=5,\n",
    "    n_jobs=-1\n",
    ")\n",
    "\n",
    "pipe_ensemble = make_pipeline(preproc, model, memory=cachedir)\n",
    "\n",
    "score = cross_val_score(pipe_ensemble, X, y, cv=5, scoring='roc_auc', n_jobs=-1)\n",
    "print(score.std())\n",
    "score.mean()"
   ]
  },
  {
   "cell_type": "code",
   "execution_count": null,
   "metadata": {},
   "outputs": [],
   "source": [
    "XGBoost = XGBClassifier()\n",
    "adaboost = AdaBoostClassifier()\n",
    "\n",
    "\n",
    "model = VotingClassifier(\n",
    "    estimators = [(\"XGBoost\", XGBoost),(\"adaboost\", adaboost)], voting='soft',\n",
    "    weights = [1,1], # to equally weight the two models\n",
    "    n_jobs=-1\n",
    ")\n",
    "\n",
    "pipe_ensemble = make_pipeline(preproc, model)\n",
    "\n",
    "score = cross_val_score(pipe_ensemble, X, y, cv=5, scoring='roc_auc', n_jobs=-1)\n",
    "print(score.std())\n",
    "score.mean()"
   ]
  },
  {
   "attachments": {},
   "cell_type": "markdown",
   "metadata": {},
   "source": [
    "### XGBoost"
   ]
  },
  {
   "cell_type": "code",
   "execution_count": null,
   "metadata": {},
   "outputs": [],
   "source": [
    "from tempfile import mkdtemp\n",
    "from shutil import rmtree\n",
    "cachedir = mkdtemp()"
   ]
  },
  {
   "cell_type": "code",
   "execution_count": 24,
   "metadata": {},
   "outputs": [
    {
     "name": "stderr",
     "output_type": "stream",
     "text": [
      "/home/thomas/.pyenv/versions/lewagon/lib/python3.8/site-packages/xgboost/sklearn.py:1224: UserWarning: The use of label encoder in XGBClassifier is deprecated and will be removed in a future release. To remove this warning, do the following: 1) Pass option use_label_encoder=False when constructing XGBClassifier object; and 2) Encode your labels (y) as integers starting with 0, i.e. 0, 1, 2, ..., [num_class - 1].\n",
      "  warnings.warn(label_encoder_deprecation_msg, UserWarning)\n",
      "/home/thomas/.pyenv/versions/lewagon/lib/python3.8/site-packages/xgboost/sklearn.py:1224: UserWarning: The use of label encoder in XGBClassifier is deprecated and will be removed in a future release. To remove this warning, do the following: 1) Pass option use_label_encoder=False when constructing XGBClassifier object; and 2) Encode your labels (y) as integers starting with 0, i.e. 0, 1, 2, ..., [num_class - 1].\n",
      "  warnings.warn(label_encoder_deprecation_msg, UserWarning)\n",
      "/home/thomas/.pyenv/versions/lewagon/lib/python3.8/site-packages/xgboost/sklearn.py:1224: UserWarning: The use of label encoder in XGBClassifier is deprecated and will be removed in a future release. To remove this warning, do the following: 1) Pass option use_label_encoder=False when constructing XGBClassifier object; and 2) Encode your labels (y) as integers starting with 0, i.e. 0, 1, 2, ..., [num_class - 1].\n",
      "  warnings.warn(label_encoder_deprecation_msg, UserWarning)\n",
      "/home/thomas/.pyenv/versions/lewagon/lib/python3.8/site-packages/xgboost/sklearn.py:1224: UserWarning: The use of label encoder in XGBClassifier is deprecated and will be removed in a future release. To remove this warning, do the following: 1) Pass option use_label_encoder=False when constructing XGBClassifier object; and 2) Encode your labels (y) as integers starting with 0, i.e. 0, 1, 2, ..., [num_class - 1].\n",
      "  warnings.warn(label_encoder_deprecation_msg, UserWarning)\n"
     ]
    },
    {
     "name": "stdout",
     "output_type": "stream",
     "text": [
      "[19:26:41] WARNING: ../src/learner.cc:1115: Starting in XGBoost 1.3.0, the default evaluation metric used with the objective 'binary:logistic' was changed from 'error' to 'logloss'. Explicitly set eval_metric if you'd like to restore the old behavior.\n",
      "[19:26:41] WARNING: ../src/learner.cc:1115: Starting in XGBoost 1.3.0, the default evaluation metric used with the objective 'binary:logistic' was changed from 'error' to 'logloss'. Explicitly set eval_metric if you'd like to restore the old behavior.\n",
      "[19:26:42] WARNING: ../src/learner.cc:1115: Starting in XGBoost 1.3.0, the default evaluation metric used with the objective 'binary:logistic' was changed from 'error' to 'logloss'. Explicitly set eval_metric if you'd like to restore the old behavior.\n",
      "[19:26:42] WARNING: ../src/learner.cc:1115: Starting in XGBoost 1.3.0, the default evaluation metric used with the objective 'binary:logistic' was changed from 'error' to 'logloss'. Explicitly set eval_metric if you'd like to restore the old behavior.\n"
     ]
    },
    {
     "name": "stderr",
     "output_type": "stream",
     "text": [
      "/home/thomas/.pyenv/versions/lewagon/lib/python3.8/site-packages/xgboost/sklearn.py:1224: UserWarning: The use of label encoder in XGBClassifier is deprecated and will be removed in a future release. To remove this warning, do the following: 1) Pass option use_label_encoder=False when constructing XGBClassifier object; and 2) Encode your labels (y) as integers starting with 0, i.e. 0, 1, 2, ..., [num_class - 1].\n",
      "  warnings.warn(label_encoder_deprecation_msg, UserWarning)\n"
     ]
    },
    {
     "name": "stdout",
     "output_type": "stream",
     "text": [
      "[19:28:23] WARNING: ../src/learner.cc:1115: Starting in XGBoost 1.3.0, the default evaluation metric used with the objective 'binary:logistic' was changed from 'error' to 'logloss'. Explicitly set eval_metric if you'd like to restore the old behavior.\n"
     ]
    },
    {
     "data": {
      "text/plain": [
       "0.8324167655519314"
      ]
     },
     "execution_count": 24,
     "metadata": {},
     "output_type": "execute_result"
    }
   ],
   "source": [
    "model = XGBClassifier(learning_rate=0.1, max_depth=5, n_estimators=70, alpha=1)\n",
    "pipe_XGBoost = make_pipeline(preproc, model) \n",
    "cross_val_score(pipe_XGBoost, X, y, cv=5, scoring='roc_auc', n_jobs=-1).mean()"
   ]
  },
  {
   "cell_type": "code",
   "execution_count": 27,
   "metadata": {},
   "outputs": [
    {
     "data": {
      "text/plain": [
       "{'memory': None,\n",
       " 'steps': [('columntransformer',\n",
       "   ColumnTransformer(transformers=[('pipeline-1',\n",
       "                                    Pipeline(steps=[('minmaxscaler',\n",
       "                                                     MinMaxScaler())]),\n",
       "                                    Index(['Age', 'Region_Code', 'Previously_Insured', 'Annual_Premium',\n",
       "          'Vintage'],\n",
       "         dtype='object')),\n",
       "                                   ('pipeline-2',\n",
       "                                    Pipeline(steps=[('onehotencoder',\n",
       "                                                     OneHotEncoder(handle_unknown='ignore'))]),\n",
       "                                    Gender            2\n",
       "   Vehicle_Age       3\n",
       "   Vehicle_Damage    2\n",
       "   dtype: int64)])),\n",
       "  ('xgbclassifier',\n",
       "   XGBClassifier(alpha=1, base_score=None, booster=None, colsample_bylevel=None,\n",
       "                 colsample_bynode=None, colsample_bytree=None,\n",
       "                 enable_categorical=False, gamma=None, gpu_id=None,\n",
       "                 importance_type=None, interaction_constraints=None,\n",
       "                 learning_rate=0.1, max_delta_step=None, max_depth=5,\n",
       "                 min_child_weight=None, missing=nan, monotone_constraints=None,\n",
       "                 n_estimators=70, n_jobs=None, num_parallel_tree=None,\n",
       "                 predictor=None, random_state=None, reg_alpha=None,\n",
       "                 reg_lambda=None, scale_pos_weight=None, subsample=None,\n",
       "                 tree_method=None, validate_parameters=None, verbosity=None))],\n",
       " 'verbose': False,\n",
       " 'columntransformer': ColumnTransformer(transformers=[('pipeline-1',\n",
       "                                  Pipeline(steps=[('minmaxscaler',\n",
       "                                                   MinMaxScaler())]),\n",
       "                                  Index(['Age', 'Region_Code', 'Previously_Insured', 'Annual_Premium',\n",
       "        'Vintage'],\n",
       "       dtype='object')),\n",
       "                                 ('pipeline-2',\n",
       "                                  Pipeline(steps=[('onehotencoder',\n",
       "                                                   OneHotEncoder(handle_unknown='ignore'))]),\n",
       "                                  Gender            2\n",
       " Vehicle_Age       3\n",
       " Vehicle_Damage    2\n",
       " dtype: int64)]),\n",
       " 'xgbclassifier': XGBClassifier(alpha=1, base_score=None, booster=None, colsample_bylevel=None,\n",
       "               colsample_bynode=None, colsample_bytree=None,\n",
       "               enable_categorical=False, gamma=None, gpu_id=None,\n",
       "               importance_type=None, interaction_constraints=None,\n",
       "               learning_rate=0.1, max_delta_step=None, max_depth=5,\n",
       "               min_child_weight=None, missing=nan, monotone_constraints=None,\n",
       "               n_estimators=70, n_jobs=None, num_parallel_tree=None,\n",
       "               predictor=None, random_state=None, reg_alpha=None,\n",
       "               reg_lambda=None, scale_pos_weight=None, subsample=None,\n",
       "               tree_method=None, validate_parameters=None, verbosity=None),\n",
       " 'columntransformer__n_jobs': None,\n",
       " 'columntransformer__remainder': 'drop',\n",
       " 'columntransformer__sparse_threshold': 0.3,\n",
       " 'columntransformer__transformer_weights': None,\n",
       " 'columntransformer__transformers': [('pipeline-1',\n",
       "   Pipeline(steps=[('minmaxscaler', MinMaxScaler())]),\n",
       "   Index(['Age', 'Region_Code', 'Previously_Insured', 'Annual_Premium',\n",
       "          'Vintage'],\n",
       "         dtype='object')),\n",
       "  ('pipeline-2',\n",
       "   Pipeline(steps=[('onehotencoder', OneHotEncoder(handle_unknown='ignore'))]),\n",
       "   Gender            2\n",
       "   Vehicle_Age       3\n",
       "   Vehicle_Damage    2\n",
       "   dtype: int64)],\n",
       " 'columntransformer__verbose': False,\n",
       " 'columntransformer__verbose_feature_names_out': True,\n",
       " 'columntransformer__pipeline-1': Pipeline(steps=[('minmaxscaler', MinMaxScaler())]),\n",
       " 'columntransformer__pipeline-2': Pipeline(steps=[('onehotencoder', OneHotEncoder(handle_unknown='ignore'))]),\n",
       " 'columntransformer__pipeline-1__memory': None,\n",
       " 'columntransformer__pipeline-1__steps': [('minmaxscaler', MinMaxScaler())],\n",
       " 'columntransformer__pipeline-1__verbose': False,\n",
       " 'columntransformer__pipeline-1__minmaxscaler': MinMaxScaler(),\n",
       " 'columntransformer__pipeline-1__minmaxscaler__clip': False,\n",
       " 'columntransformer__pipeline-1__minmaxscaler__copy': True,\n",
       " 'columntransformer__pipeline-1__minmaxscaler__feature_range': (0, 1),\n",
       " 'columntransformer__pipeline-2__memory': None,\n",
       " 'columntransformer__pipeline-2__steps': [('onehotencoder',\n",
       "   OneHotEncoder(handle_unknown='ignore'))],\n",
       " 'columntransformer__pipeline-2__verbose': False,\n",
       " 'columntransformer__pipeline-2__onehotencoder': OneHotEncoder(handle_unknown='ignore'),\n",
       " 'columntransformer__pipeline-2__onehotencoder__categories': 'auto',\n",
       " 'columntransformer__pipeline-2__onehotencoder__drop': None,\n",
       " 'columntransformer__pipeline-2__onehotencoder__dtype': numpy.float64,\n",
       " 'columntransformer__pipeline-2__onehotencoder__handle_unknown': 'ignore',\n",
       " 'columntransformer__pipeline-2__onehotencoder__sparse': True,\n",
       " 'xgbclassifier__objective': 'binary:logistic',\n",
       " 'xgbclassifier__use_label_encoder': True,\n",
       " 'xgbclassifier__base_score': None,\n",
       " 'xgbclassifier__booster': None,\n",
       " 'xgbclassifier__colsample_bylevel': None,\n",
       " 'xgbclassifier__colsample_bynode': None,\n",
       " 'xgbclassifier__colsample_bytree': None,\n",
       " 'xgbclassifier__enable_categorical': False,\n",
       " 'xgbclassifier__gamma': None,\n",
       " 'xgbclassifier__gpu_id': None,\n",
       " 'xgbclassifier__importance_type': None,\n",
       " 'xgbclassifier__interaction_constraints': None,\n",
       " 'xgbclassifier__learning_rate': 0.1,\n",
       " 'xgbclassifier__max_delta_step': None,\n",
       " 'xgbclassifier__max_depth': 5,\n",
       " 'xgbclassifier__min_child_weight': None,\n",
       " 'xgbclassifier__missing': nan,\n",
       " 'xgbclassifier__monotone_constraints': None,\n",
       " 'xgbclassifier__n_estimators': 70,\n",
       " 'xgbclassifier__n_jobs': None,\n",
       " 'xgbclassifier__num_parallel_tree': None,\n",
       " 'xgbclassifier__predictor': None,\n",
       " 'xgbclassifier__random_state': None,\n",
       " 'xgbclassifier__reg_alpha': None,\n",
       " 'xgbclassifier__reg_lambda': None,\n",
       " 'xgbclassifier__scale_pos_weight': None,\n",
       " 'xgbclassifier__subsample': None,\n",
       " 'xgbclassifier__tree_method': None,\n",
       " 'xgbclassifier__validate_parameters': None,\n",
       " 'xgbclassifier__verbosity': None,\n",
       " 'xgbclassifier__alpha': 1}"
      ]
     },
     "execution_count": 27,
     "metadata": {},
     "output_type": "execute_result"
    }
   ],
   "source": [
    "pipe_XGBoost.get_params()"
   ]
  },
  {
   "cell_type": "code",
   "execution_count": null,
   "metadata": {},
   "outputs": [],
   "source": [
    "allow_grid_searching = True\n",
    "\n",
    "if allow_grid_searching:\n",
    "    param_grid =  {'xgbclassifier__max_depth': [3, 4, 5],\n",
    "                  'xgbclassifier__n_estimators': [10, 50, 70],\n",
    "                   'xgbclassifier__learning_rate': [0.01, 0.1, 1],\n",
    "                  }\n",
    "    search_XGBoost = GridSearchCV(pipe_XGBoost, param_grid=param_grid, \n",
    "                              cv=5, n_jobs=-1, verbose=2, scoring='roc_auc')\n",
    "\n",
    "    search_XGBoost.fit(X, y);\n",
    "    svm_XGBoost_best = search_XGBoost.best_estimator_\n",
    "    print(search_XGBoost.best_params_)\n",
    "    search_XGBoost.best_score_"
   ]
  },
  {
   "attachments": {},
   "cell_type": "markdown",
   "metadata": {},
   "source": [
    "## Final Result"
   ]
  },
  {
   "cell_type": "code",
   "execution_count": 20,
   "metadata": {},
   "outputs": [
    {
     "name": "stderr",
     "output_type": "stream",
     "text": [
      "/home/thomas/.pyenv/versions/lewagon/lib/python3.8/site-packages/xgboost/sklearn.py:1224: UserWarning: The use of label encoder in XGBClassifier is deprecated and will be removed in a future release. To remove this warning, do the following: 1) Pass option use_label_encoder=False when constructing XGBClassifier object; and 2) Encode your labels (y) as integers starting with 0, i.e. 0, 1, 2, ..., [num_class - 1].\n",
      "  warnings.warn(label_encoder_deprecation_msg, UserWarning)\n"
     ]
    },
    {
     "name": "stdout",
     "output_type": "stream",
     "text": [
      "[19:24:31] WARNING: ../src/learner.cc:1115: Starting in XGBoost 1.3.0, the default evaluation metric used with the objective 'binary:logistic' was changed from 'error' to 'logloss'. Explicitly set eval_metric if you'd like to restore the old behavior.\n"
     ]
    },
    {
     "data": {
      "text/plain": [
       "array([0, 0, 0, ..., 0, 0, 0])"
      ]
     },
     "execution_count": 20,
     "metadata": {},
     "output_type": "execute_result"
    }
   ],
   "source": [
    "X_test = pd.read_csv(\"data/test.csv\")\n",
    "X_test_ids = X_test['id']\n",
    "X_test = X_test[X_test['Driving_License'] == 1]\n",
    "X_test = X_test.drop(columns=['Policy_Sales_Channel', 'Driving_License', 'id'])\n",
    "\n",
    "model = XGBClassifier(learning_rate=0.1, max_depth=5, n_estimators=70, alpha=1)\n",
    "pipe_XGBoost = make_pipeline(preproc, model)\n",
    "pipe_XGBoost.fit(X,y)\n",
    "y_pred = pipe_XGBoost.predict(X_test)\n",
    "y_pred"
   ]
  },
  {
   "cell_type": "code",
   "execution_count": 22,
   "metadata": {},
   "outputs": [],
   "source": [
    "results = pd.concat([X_test_ids, pd.Series(y_pred, name=\"Response\")], axis=1)"
   ]
  },
  {
   "cell_type": "code",
   "execution_count": 23,
   "metadata": {},
   "outputs": [],
   "source": [
    "results.to_csv(\"data/submission_final.csv\", header=True, index=False)"
   ]
  }
 ],
 "metadata": {
  "kernelspec": {
   "display_name": "Python 3",
   "language": "python",
   "name": "python3"
  },
  "language_info": {
   "codemirror_mode": {
    "name": "ipython",
    "version": 3
   },
   "file_extension": ".py",
   "mimetype": "text/x-python",
   "name": "python",
   "nbconvert_exporter": "python",
   "pygments_lexer": "ipython3",
   "version": "3.8.12"
  },
  "orig_nbformat": 4,
  "vscode": {
   "interpreter": {
    "hash": "230626df57fbbe7ab12c5d35183ff86b6fee5751bca107add4c13426cf5a3338"
   }
  }
 },
 "nbformat": 4,
 "nbformat_minor": 2
}
